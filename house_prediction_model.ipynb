{
 "cells": [
  {
   "cell_type": "markdown",
   "id": "2cfe4014",
   "metadata": {
    "papermill": {
     "duration": 0.007385,
     "end_time": "2023-06-04T10:14:26.632944",
     "exception": false,
     "start_time": "2023-06-04T10:14:26.625559",
     "status": "completed"
    },
    "tags": []
   },
   "source": [
    "**This notebook is an exercise in the [Introduction to Machine Learning](https://www.kaggle.com/learn/intro-to-machine-learning) course.  You can reference the tutorial at [this link](https://www.kaggle.com/dansbecker/your-first-machine-learning-model).**\n",
    "\n",
    "---\n"
   ]
  },
  {
   "cell_type": "markdown",
   "id": "4a534e7a",
   "metadata": {
    "papermill": {
     "duration": 0.006317,
     "end_time": "2023-06-04T10:14:26.646087",
     "exception": false,
     "start_time": "2023-06-04T10:14:26.639770",
     "status": "completed"
    },
    "tags": []
   },
   "source": [
    "## Recap\n",
    "So far, you have loaded your data and reviewed it with the following code. Run this cell to set up your coding environment where the previous step left off."
   ]
  },
  {
   "cell_type": "code",
   "execution_count": 1,
   "id": "de36de20",
   "metadata": {
    "execution": {
     "iopub.execute_input": "2023-06-04T10:14:26.661680Z",
     "iopub.status.busy": "2023-06-04T10:14:26.661191Z",
     "iopub.status.idle": "2023-06-04T10:14:28.837704Z",
     "shell.execute_reply": "2023-06-04T10:14:28.835931Z"
    },
    "papermill": {
     "duration": 2.188404,
     "end_time": "2023-06-04T10:14:28.841196",
     "exception": false,
     "start_time": "2023-06-04T10:14:26.652792",
     "status": "completed"
    },
    "tags": []
   },
   "outputs": [
    {
     "name": "stdout",
     "output_type": "stream",
     "text": [
      "Setup Complete\n"
     ]
    }
   ],
   "source": [
    "# Code you have previously used to load data\n",
    "import pandas as pd\n",
    "\n",
    "# Path of the file to read\n",
    "iowa_file_path = '../input/home-data-for-ml-course/train.csv'\n",
    "\n",
    "home_data = pd.read_csv(iowa_file_path)\n",
    "\n",
    "# Set up code checking\n",
    "from learntools.core import binder\n",
    "binder.bind(globals())\n",
    "from learntools.machine_learning.ex3 import *\n",
    "\n",
    "print(\"Setup Complete\")"
   ]
  },
  {
   "cell_type": "markdown",
   "id": "6a6392fa",
   "metadata": {
    "papermill": {
     "duration": 0.007806,
     "end_time": "2023-06-04T10:14:28.856372",
     "exception": false,
     "start_time": "2023-06-04T10:14:28.848566",
     "status": "completed"
    },
    "tags": []
   },
   "source": [
    "# Exercises\n",
    "\n",
    "## Step 1: Specify Prediction Target\n",
    "Select the target variable, which corresponds to the sales price. Save this to a new variable called `y`. You'll need to print a list of the columns to find the name of the column you need.\n"
   ]
  },
  {
   "cell_type": "code",
   "execution_count": 2,
   "id": "31e27453",
   "metadata": {
    "execution": {
     "iopub.execute_input": "2023-06-04T10:14:28.875200Z",
     "iopub.status.busy": "2023-06-04T10:14:28.873616Z",
     "iopub.status.idle": "2023-06-04T10:14:28.884054Z",
     "shell.execute_reply": "2023-06-04T10:14:28.882647Z"
    },
    "papermill": {
     "duration": 0.02326,
     "end_time": "2023-06-04T10:14:28.887062",
     "exception": false,
     "start_time": "2023-06-04T10:14:28.863802",
     "status": "completed"
    },
    "tags": []
   },
   "outputs": [
    {
     "data": {
      "text/plain": [
       "Index(['Id', 'MSSubClass', 'MSZoning', 'LotFrontage', 'LotArea', 'Street',\n",
       "       'Alley', 'LotShape', 'LandContour', 'Utilities', 'LotConfig',\n",
       "       'LandSlope', 'Neighborhood', 'Condition1', 'Condition2', 'BldgType',\n",
       "       'HouseStyle', 'OverallQual', 'OverallCond', 'YearBuilt', 'YearRemodAdd',\n",
       "       'RoofStyle', 'RoofMatl', 'Exterior1st', 'Exterior2nd', 'MasVnrType',\n",
       "       'MasVnrArea', 'ExterQual', 'ExterCond', 'Foundation', 'BsmtQual',\n",
       "       'BsmtCond', 'BsmtExposure', 'BsmtFinType1', 'BsmtFinSF1',\n",
       "       'BsmtFinType2', 'BsmtFinSF2', 'BsmtUnfSF', 'TotalBsmtSF', 'Heating',\n",
       "       'HeatingQC', 'CentralAir', 'Electrical', '1stFlrSF', '2ndFlrSF',\n",
       "       'LowQualFinSF', 'GrLivArea', 'BsmtFullBath', 'BsmtHalfBath', 'FullBath',\n",
       "       'HalfBath', 'BedroomAbvGr', 'KitchenAbvGr', 'KitchenQual',\n",
       "       'TotRmsAbvGrd', 'Functional', 'Fireplaces', 'FireplaceQu', 'GarageType',\n",
       "       'GarageYrBlt', 'GarageFinish', 'GarageCars', 'GarageArea', 'GarageQual',\n",
       "       'GarageCond', 'PavedDrive', 'WoodDeckSF', 'OpenPorchSF',\n",
       "       'EnclosedPorch', '3SsnPorch', 'ScreenPorch', 'PoolArea', 'PoolQC',\n",
       "       'Fence', 'MiscFeature', 'MiscVal', 'MoSold', 'YrSold', 'SaleType',\n",
       "       'SaleCondition', 'SalePrice'],\n",
       "      dtype='object')"
      ]
     },
     "execution_count": 2,
     "metadata": {},
     "output_type": "execute_result"
    }
   ],
   "source": [
    "# print the list of columns in the dataset to find the name of the prediction target\n",
    "columns = home_data.columns\n",
    "columns"
   ]
  },
  {
   "cell_type": "code",
   "execution_count": 3,
   "id": "9bab024d",
   "metadata": {
    "execution": {
     "iopub.execute_input": "2023-06-04T10:14:28.907346Z",
     "iopub.status.busy": "2023-06-04T10:14:28.906564Z",
     "iopub.status.idle": "2023-06-04T10:14:28.927701Z",
     "shell.execute_reply": "2023-06-04T10:14:28.926087Z"
    },
    "papermill": {
     "duration": 0.03404,
     "end_time": "2023-06-04T10:14:28.930884",
     "exception": false,
     "start_time": "2023-06-04T10:14:28.896844",
     "status": "completed"
    },
    "tags": []
   },
   "outputs": [
    {
     "data": {
      "application/javascript": [
       "parent.postMessage({\"jupyterEvent\": \"custom.exercise_interaction\", \"data\": {\"outcomeType\": 1, \"valueTowardsCompletion\": 0.25, \"interactionType\": 1, \"questionType\": 2, \"questionId\": \"1_SetTarget\", \"learnToolsVersion\": \"0.3.4\", \"failureMessage\": \"\", \"exceptionClass\": \"\", \"trace\": \"\"}}, \"*\")"
      ],
      "text/plain": [
       "<IPython.core.display.Javascript object>"
      ]
     },
     "metadata": {},
     "output_type": "display_data"
    },
    {
     "data": {
      "text/markdown": [
       "<span style=\"color:#33cc33\">Correct</span>"
      ],
      "text/plain": [
       "Correct"
      ]
     },
     "metadata": {},
     "output_type": "display_data"
    }
   ],
   "source": [
    "y = home_data.SalePrice\n",
    "\n",
    "# Check your answer\n",
    "step_1.check()"
   ]
  },
  {
   "cell_type": "code",
   "execution_count": null,
   "id": "9d374961",
   "metadata": {
    "papermill": {
     "duration": 0.007353,
     "end_time": "2023-06-04T10:14:28.946437",
     "exception": false,
     "start_time": "2023-06-04T10:14:28.939084",
     "status": "completed"
    },
    "tags": []
   },
   "outputs": [],
   "source": []
  },
  {
   "cell_type": "code",
   "execution_count": 4,
   "id": "e6af5962",
   "metadata": {
    "collapsed": true,
    "execution": {
     "iopub.execute_input": "2023-06-04T10:14:28.964715Z",
     "iopub.status.busy": "2023-06-04T10:14:28.963191Z",
     "iopub.status.idle": "2023-06-04T10:14:28.969563Z",
     "shell.execute_reply": "2023-06-04T10:14:28.968002Z"
    },
    "jupyter": {
     "outputs_hidden": true
    },
    "papermill": {
     "duration": 0.018577,
     "end_time": "2023-06-04T10:14:28.972754",
     "exception": false,
     "start_time": "2023-06-04T10:14:28.954177",
     "status": "completed"
    },
    "tags": []
   },
   "outputs": [],
   "source": [
    "# The lines below will show you a hint or the solution.\n",
    "# step_1.hint() \n",
    "# step_1.solution()"
   ]
  },
  {
   "cell_type": "markdown",
   "id": "35b2c8d8",
   "metadata": {
    "papermill": {
     "duration": 0.007832,
     "end_time": "2023-06-04T10:14:28.988758",
     "exception": false,
     "start_time": "2023-06-04T10:14:28.980926",
     "status": "completed"
    },
    "tags": []
   },
   "source": [
    "## Step 2: Create X\n",
    "Now you will create a DataFrame called `X` holding the predictive features.\n",
    "\n",
    "Since you want only some columns from the original data, you'll first create a list with the names of the columns you want in `X`.\n",
    "\n",
    "You'll use just the following columns in the list (you can copy and paste the whole list to save some typing, though you'll still need to add quotes):\n",
    "  * LotArea\n",
    "  * YearBuilt\n",
    "  * 1stFlrSF\n",
    "  * 2ndFlrSF\n",
    "  * FullBath\n",
    "  * BedroomAbvGr\n",
    "  * TotRmsAbvGrd\n",
    "\n",
    "After you've created that list of features, use it to create the DataFrame that you'll use to fit the model."
   ]
  },
  {
   "cell_type": "code",
   "execution_count": 5,
   "id": "d6bf8537",
   "metadata": {
    "execution": {
     "iopub.execute_input": "2023-06-04T10:14:29.007731Z",
     "iopub.status.busy": "2023-06-04T10:14:29.007282Z",
     "iopub.status.idle": "2023-06-04T10:14:29.027512Z",
     "shell.execute_reply": "2023-06-04T10:14:29.025809Z"
    },
    "papermill": {
     "duration": 0.034141,
     "end_time": "2023-06-04T10:14:29.030869",
     "exception": false,
     "start_time": "2023-06-04T10:14:28.996728",
     "status": "completed"
    },
    "tags": []
   },
   "outputs": [
    {
     "data": {
      "application/javascript": [
       "parent.postMessage({\"jupyterEvent\": \"custom.exercise_interaction\", \"data\": {\"outcomeType\": 1, \"valueTowardsCompletion\": 0.25, \"interactionType\": 1, \"questionType\": 2, \"questionId\": \"2_SelectPredictionData\", \"learnToolsVersion\": \"0.3.4\", \"failureMessage\": \"\", \"exceptionClass\": \"\", \"trace\": \"\"}}, \"*\")"
      ],
      "text/plain": [
       "<IPython.core.display.Javascript object>"
      ]
     },
     "metadata": {},
     "output_type": "display_data"
    },
    {
     "data": {
      "text/markdown": [
       "<span style=\"color:#33cc33\">Correct</span>"
      ],
      "text/plain": [
       "Correct"
      ]
     },
     "metadata": {},
     "output_type": "display_data"
    }
   ],
   "source": [
    "# Create the list of features below\n",
    "feature_names = ['LotArea', 'YearBuilt','1stFlrSF', '2ndFlrSF','FullBath','BedroomAbvGr','TotRmsAbvGrd']\n",
    "\n",
    "# Select data corresponding to features in feature_names\n",
    "X = home_data[feature_names]\n",
    "\n",
    "# Check your answer\n",
    "step_2.check()"
   ]
  },
  {
   "cell_type": "code",
   "execution_count": 6,
   "id": "0ac5e894",
   "metadata": {
    "execution": {
     "iopub.execute_input": "2023-06-04T10:14:29.052357Z",
     "iopub.status.busy": "2023-06-04T10:14:29.051897Z",
     "iopub.status.idle": "2023-06-04T10:14:29.056471Z",
     "shell.execute_reply": "2023-06-04T10:14:29.055230Z"
    },
    "papermill": {
     "duration": 0.018724,
     "end_time": "2023-06-04T10:14:29.059089",
     "exception": false,
     "start_time": "2023-06-04T10:14:29.040365",
     "status": "completed"
    },
    "tags": []
   },
   "outputs": [],
   "source": [
    "#step_2.hint()\n",
    "# step_2.solution()"
   ]
  },
  {
   "cell_type": "markdown",
   "id": "16c2612b",
   "metadata": {
    "papermill": {
     "duration": 0.008195,
     "end_time": "2023-06-04T10:14:29.076629",
     "exception": false,
     "start_time": "2023-06-04T10:14:29.068434",
     "status": "completed"
    },
    "tags": []
   },
   "source": [
    "## Review Data\n",
    "Before building a model, take a quick look at **X** to verify it looks sensible"
   ]
  },
  {
   "cell_type": "code",
   "execution_count": 7,
   "id": "4cfededb",
   "metadata": {
    "execution": {
     "iopub.execute_input": "2023-06-04T10:14:29.095410Z",
     "iopub.status.busy": "2023-06-04T10:14:29.095014Z",
     "iopub.status.idle": "2023-06-04T10:14:29.142964Z",
     "shell.execute_reply": "2023-06-04T10:14:29.140865Z"
    },
    "papermill": {
     "duration": 0.061247,
     "end_time": "2023-06-04T10:14:29.146220",
     "exception": false,
     "start_time": "2023-06-04T10:14:29.084973",
     "status": "completed"
    },
    "tags": []
   },
   "outputs": [
    {
     "name": "stdout",
     "output_type": "stream",
     "text": [
      "             LotArea    YearBuilt     1stFlrSF     2ndFlrSF     FullBath  \\\n",
      "count    1460.000000  1460.000000  1460.000000  1460.000000  1460.000000   \n",
      "mean    10516.828082  1971.267808  1162.626712   346.992466     1.565068   \n",
      "std      9981.264932    30.202904   386.587738   436.528436     0.550916   \n",
      "min      1300.000000  1872.000000   334.000000     0.000000     0.000000   \n",
      "25%      7553.500000  1954.000000   882.000000     0.000000     1.000000   \n",
      "50%      9478.500000  1973.000000  1087.000000     0.000000     2.000000   \n",
      "75%     11601.500000  2000.000000  1391.250000   728.000000     2.000000   \n",
      "max    215245.000000  2010.000000  4692.000000  2065.000000     3.000000   \n",
      "\n",
      "       BedroomAbvGr  TotRmsAbvGrd  \n",
      "count   1460.000000   1460.000000  \n",
      "mean       2.866438      6.517808  \n",
      "std        0.815778      1.625393  \n",
      "min        0.000000      2.000000  \n",
      "25%        2.000000      5.000000  \n",
      "50%        3.000000      6.000000  \n",
      "75%        3.000000      7.000000  \n",
      "max        8.000000     14.000000  \n",
      "   LotArea  YearBuilt  1stFlrSF  2ndFlrSF  FullBath  BedroomAbvGr  \\\n",
      "0     8450       2003       856       854         2             3   \n",
      "1     9600       1976      1262         0         2             3   \n",
      "2    11250       2001       920       866         2             3   \n",
      "3     9550       1915       961       756         1             3   \n",
      "4    14260       2000      1145      1053         2             4   \n",
      "\n",
      "   TotRmsAbvGrd  \n",
      "0             8  \n",
      "1             6  \n",
      "2             6  \n",
      "3             7  \n",
      "4             9  \n"
     ]
    }
   ],
   "source": [
    "# Review data\n",
    "# print description or statistics from X\n",
    "print(X.describe())\n",
    "\n",
    "# print the top few lines\n",
    "print(X.head())\n"
   ]
  },
  {
   "cell_type": "markdown",
   "id": "eefe8910",
   "metadata": {
    "papermill": {
     "duration": 0.009581,
     "end_time": "2023-06-04T10:14:29.164888",
     "exception": false,
     "start_time": "2023-06-04T10:14:29.155307",
     "status": "completed"
    },
    "tags": []
   },
   "source": [
    "## Step 3: Specify and Fit Model\n",
    "Create a `DecisionTreeRegressor` and save it iowa_model. Ensure you've done the relevant import from sklearn to run this command.\n",
    "\n",
    "Then fit the model you just created using the data in `X` and `y` that you saved above."
   ]
  },
  {
   "cell_type": "code",
   "execution_count": 8,
   "id": "b5f95b46",
   "metadata": {
    "execution": {
     "iopub.execute_input": "2023-06-04T10:14:29.184651Z",
     "iopub.status.busy": "2023-06-04T10:14:29.184208Z",
     "iopub.status.idle": "2023-06-04T10:14:29.210096Z",
     "shell.execute_reply": "2023-06-04T10:14:29.208791Z"
    },
    "papermill": {
     "duration": 0.04021,
     "end_time": "2023-06-04T10:14:29.213708",
     "exception": false,
     "start_time": "2023-06-04T10:14:29.173498",
     "status": "completed"
    },
    "tags": []
   },
   "outputs": [
    {
     "data": {
      "application/javascript": [
       "parent.postMessage({\"jupyterEvent\": \"custom.exercise_interaction\", \"data\": {\"outcomeType\": 1, \"valueTowardsCompletion\": 0.25, \"interactionType\": 1, \"questionType\": 2, \"questionId\": \"3_CreateModel\", \"learnToolsVersion\": \"0.3.4\", \"failureMessage\": \"\", \"exceptionClass\": \"\", \"trace\": \"\"}}, \"*\")"
      ],
      "text/plain": [
       "<IPython.core.display.Javascript object>"
      ]
     },
     "metadata": {},
     "output_type": "display_data"
    },
    {
     "data": {
      "text/markdown": [
       "<span style=\"color:#33cc33\">Correct</span>"
      ],
      "text/plain": [
       "Correct"
      ]
     },
     "metadata": {},
     "output_type": "display_data"
    }
   ],
   "source": [
    " from sklearn.tree import DecisionTreeRegressor\n",
    "#specify the model. \n",
    "#For model reproducibility, set a numeric value for random_state when specifying the model\n",
    "iowa_model = DecisionTreeRegressor(random_state = 1)\n",
    "\n",
    "# Fit the model\n",
    "\n",
    "iowa_model.fit(X, y)\n",
    "\n",
    "# Check your answer\n",
    "step_3.check()"
   ]
  },
  {
   "cell_type": "code",
   "execution_count": 9,
   "id": "cc229895",
   "metadata": {
    "collapsed": true,
    "execution": {
     "iopub.execute_input": "2023-06-04T10:14:29.233574Z",
     "iopub.status.busy": "2023-06-04T10:14:29.233139Z",
     "iopub.status.idle": "2023-06-04T10:14:29.238768Z",
     "shell.execute_reply": "2023-06-04T10:14:29.237305Z"
    },
    "jupyter": {
     "outputs_hidden": true
    },
    "papermill": {
     "duration": 0.018819,
     "end_time": "2023-06-04T10:14:29.241542",
     "exception": false,
     "start_time": "2023-06-04T10:14:29.222723",
     "status": "completed"
    },
    "tags": []
   },
   "outputs": [],
   "source": [
    "# step_3.hint()\n",
    "# step_3.solution()"
   ]
  },
  {
   "cell_type": "markdown",
   "id": "18bffcb0",
   "metadata": {
    "papermill": {
     "duration": 0.009518,
     "end_time": "2023-06-04T10:14:29.260432",
     "exception": false,
     "start_time": "2023-06-04T10:14:29.250914",
     "status": "completed"
    },
    "tags": []
   },
   "source": [
    "## Step 4: Make Predictions\n",
    "Make predictions with the model's `predict` command using `X` as the data. Save the results to a variable called `predictions`."
   ]
  },
  {
   "cell_type": "code",
   "execution_count": 10,
   "id": "46a06a74",
   "metadata": {
    "execution": {
     "iopub.execute_input": "2023-06-04T10:14:29.280795Z",
     "iopub.status.busy": "2023-06-04T10:14:29.280003Z",
     "iopub.status.idle": "2023-06-04T10:14:29.294241Z",
     "shell.execute_reply": "2023-06-04T10:14:29.293366Z"
    },
    "papermill": {
     "duration": 0.027171,
     "end_time": "2023-06-04T10:14:29.296558",
     "exception": false,
     "start_time": "2023-06-04T10:14:29.269387",
     "status": "completed"
    },
    "tags": []
   },
   "outputs": [
    {
     "name": "stdout",
     "output_type": "stream",
     "text": [
      "[208500. 181500. 223500. ... 266500. 142125. 147500.]\n"
     ]
    },
    {
     "data": {
      "application/javascript": [
       "parent.postMessage({\"jupyterEvent\": \"custom.exercise_interaction\", \"data\": {\"outcomeType\": 1, \"valueTowardsCompletion\": 0.25, \"interactionType\": 1, \"questionType\": 2, \"questionId\": \"4_MakePredictions\", \"learnToolsVersion\": \"0.3.4\", \"failureMessage\": \"\", \"exceptionClass\": \"\", \"trace\": \"\"}}, \"*\")"
      ],
      "text/plain": [
       "<IPython.core.display.Javascript object>"
      ]
     },
     "metadata": {},
     "output_type": "display_data"
    },
    {
     "data": {
      "text/markdown": [
       "<span style=\"color:#33cc33\">Correct</span>"
      ],
      "text/plain": [
       "Correct"
      ]
     },
     "metadata": {},
     "output_type": "display_data"
    }
   ],
   "source": [
    "predictions = iowa_model.predict(X)\n",
    "print(predictions)\n",
    "\n",
    "# Check your answer\n",
    "step_4.check()"
   ]
  },
  {
   "cell_type": "code",
   "execution_count": 11,
   "id": "848bc935",
   "metadata": {
    "execution": {
     "iopub.execute_input": "2023-06-04T10:14:29.317435Z",
     "iopub.status.busy": "2023-06-04T10:14:29.317028Z",
     "iopub.status.idle": "2023-06-04T10:14:29.321719Z",
     "shell.execute_reply": "2023-06-04T10:14:29.320587Z"
    },
    "papermill": {
     "duration": 0.018466,
     "end_time": "2023-06-04T10:14:29.324694",
     "exception": false,
     "start_time": "2023-06-04T10:14:29.306228",
     "status": "completed"
    },
    "tags": []
   },
   "outputs": [],
   "source": [
    "# step_4.hint()\n",
    "# step_4.solution()"
   ]
  },
  {
   "cell_type": "markdown",
   "id": "6f5a7584",
   "metadata": {
    "papermill": {
     "duration": 0.009289,
     "end_time": "2023-06-04T10:14:29.343548",
     "exception": false,
     "start_time": "2023-06-04T10:14:29.334259",
     "status": "completed"
    },
    "tags": []
   },
   "source": [
    "## Think About Your Results\n",
    "\n",
    "Use the `head` method to compare the top few predictions to the actual home values (in `y`) for those same homes. Anything surprising?\n"
   ]
  },
  {
   "cell_type": "code",
   "execution_count": 12,
   "id": "15c785d1",
   "metadata": {
    "execution": {
     "iopub.execute_input": "2023-06-04T10:14:29.365177Z",
     "iopub.status.busy": "2023-06-04T10:14:29.364308Z",
     "iopub.status.idle": "2023-06-04T10:14:29.372683Z",
     "shell.execute_reply": "2023-06-04T10:14:29.370890Z"
    },
    "papermill": {
     "duration": 0.022765,
     "end_time": "2023-06-04T10:14:29.375370",
     "exception": false,
     "start_time": "2023-06-04T10:14:29.352605",
     "status": "completed"
    },
    "tags": []
   },
   "outputs": [
    {
     "name": "stdout",
     "output_type": "stream",
     "text": [
      "Prediction for house number 377: 340000.0\n",
      "Actual for house number 377 :340000\n",
      "The difference is : 0.0\n"
     ]
    }
   ],
   "source": [
    "import random\n",
    "random_row = random.randint(0, len(y))\n",
    "print(f\"Prediction for house number { random_row }: { predictions[random_row] }\")\n",
    "print(f\"Actual for house number { random_row } :{ y[random_row] }\", )\n",
    "print(f\"The difference is : { y[random_row]  -  predictions[random_row] }\")\n",
    "\n"
   ]
  },
  {
   "cell_type": "markdown",
   "id": "a0fad85c",
   "metadata": {
    "papermill": {
     "duration": 0.008715,
     "end_time": "2023-06-04T10:14:29.393708",
     "exception": false,
     "start_time": "2023-06-04T10:14:29.384993",
     "status": "completed"
    },
    "tags": []
   },
   "source": [
    "It's natural to ask how accurate the model's predictions will be and how you can improve that. That will be you're next step.\n",
    "\n",
    "# Keep Going\n",
    "\n",
    "You are ready for **[Model Validation](https://www.kaggle.com/dansbecker/model-validation).**\n"
   ]
  },
  {
   "cell_type": "markdown",
   "id": "43bfe047",
   "metadata": {
    "papermill": {
     "duration": 0.008632,
     "end_time": "2023-06-04T10:14:29.411230",
     "exception": false,
     "start_time": "2023-06-04T10:14:29.402598",
     "status": "completed"
    },
    "tags": []
   },
   "source": [
    "---\n",
    "\n",
    "\n",
    "\n",
    "\n",
    "*Have questions or comments? Visit the [course discussion forum](https://www.kaggle.com/learn/intro-to-machine-learning/discussion) to chat with other learners.*"
   ]
  }
 ],
 "metadata": {
  "kernelspec": {
   "display_name": "Python 3",
   "language": "python",
   "name": "python3"
  },
  "language_info": {
   "codemirror_mode": {
    "name": "ipython",
    "version": 3
   },
   "file_extension": ".py",
   "mimetype": "text/x-python",
   "name": "python",
   "nbconvert_exporter": "python",
   "pygments_lexer": "ipython3",
   "version": "3.10.10"
  },
  "papermill": {
   "default_parameters": {},
   "duration": 17.355195,
   "end_time": "2023-06-04T10:14:30.443891",
   "environment_variables": {},
   "exception": null,
   "input_path": "__notebook__.ipynb",
   "output_path": "__notebook__.ipynb",
   "parameters": {},
   "start_time": "2023-06-04T10:14:13.088696",
   "version": "2.4.0"
  }
 },
 "nbformat": 4,
 "nbformat_minor": 5
}
