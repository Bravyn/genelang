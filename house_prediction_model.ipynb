{
 "cells": [
  {
   "cell_type": "markdown",
   "id": "b14716d5",
   "metadata": {
    "papermill": {
     "duration": 0.007592,
     "end_time": "2023-06-04T10:12:23.322376",
     "exception": false,
     "start_time": "2023-06-04T10:12:23.314784",
     "status": "completed"
    },
    "tags": []
   },
   "source": [
    "**This notebook is an exercise in the [Introduction to Machine Learning](https://www.kaggle.com/learn/intro-to-machine-learning) course.  You can reference the tutorial at [this link](https://www.kaggle.com/dansbecker/your-first-machine-learning-model).**\n",
    "\n",
    "---\n"
   ]
  },
  {
   "cell_type": "markdown",
   "id": "d616744c",
   "metadata": {
    "papermill": {
     "duration": 0.006698,
     "end_time": "2023-06-04T10:12:23.336235",
     "exception": false,
     "start_time": "2023-06-04T10:12:23.329537",
     "status": "completed"
    },
    "tags": []
   },
   "source": [
    "## Recap\n",
    "So far, you have loaded your data and reviewed it with the following code. Run this cell to set up your coding environment where the previous step left off."
   ]
  },
  {
   "cell_type": "code",
   "execution_count": 1,
   "id": "f74c5e11",
   "metadata": {
    "execution": {
     "iopub.execute_input": "2023-06-04T10:12:23.352330Z",
     "iopub.status.busy": "2023-06-04T10:12:23.351892Z",
     "iopub.status.idle": "2023-06-04T10:12:25.344120Z",
     "shell.execute_reply": "2023-06-04T10:12:25.342873Z"
    },
    "papermill": {
     "duration": 2.003609,
     "end_time": "2023-06-04T10:12:25.346799",
     "exception": false,
     "start_time": "2023-06-04T10:12:23.343190",
     "status": "completed"
    },
    "tags": []
   },
   "outputs": [
    {
     "name": "stdout",
     "output_type": "stream",
     "text": [
      "Setup Complete\n"
     ]
    }
   ],
   "source": [
    "# Code you have previously used to load data\n",
    "import pandas as pd\n",
    "\n",
    "# Path of the file to read\n",
    "iowa_file_path = '../input/home-data-for-ml-course/train.csv'\n",
    "\n",
    "home_data = pd.read_csv(iowa_file_path)\n",
    "\n",
    "# Set up code checking\n",
    "from learntools.core import binder\n",
    "binder.bind(globals())\n",
    "from learntools.machine_learning.ex3 import *\n",
    "\n",
    "print(\"Setup Complete\")"
   ]
  },
  {
   "cell_type": "markdown",
   "id": "08d17b01",
   "metadata": {
    "papermill": {
     "duration": 0.006798,
     "end_time": "2023-06-04T10:12:25.360695",
     "exception": false,
     "start_time": "2023-06-04T10:12:25.353897",
     "status": "completed"
    },
    "tags": []
   },
   "source": [
    "# Exercises\n",
    "\n",
    "## Step 1: Specify Prediction Target\n",
    "Select the target variable, which corresponds to the sales price. Save this to a new variable called `y`. You'll need to print a list of the columns to find the name of the column you need.\n"
   ]
  },
  {
   "cell_type": "code",
   "execution_count": 2,
   "id": "0c913800",
   "metadata": {
    "execution": {
     "iopub.execute_input": "2023-06-04T10:12:25.376817Z",
     "iopub.status.busy": "2023-06-04T10:12:25.376167Z",
     "iopub.status.idle": "2023-06-04T10:12:25.385436Z",
     "shell.execute_reply": "2023-06-04T10:12:25.384115Z"
    },
    "papermill": {
     "duration": 0.020423,
     "end_time": "2023-06-04T10:12:25.388073",
     "exception": false,
     "start_time": "2023-06-04T10:12:25.367650",
     "status": "completed"
    },
    "tags": []
   },
   "outputs": [
    {
     "data": {
      "text/plain": [
       "Index(['Id', 'MSSubClass', 'MSZoning', 'LotFrontage', 'LotArea', 'Street',\n",
       "       'Alley', 'LotShape', 'LandContour', 'Utilities', 'LotConfig',\n",
       "       'LandSlope', 'Neighborhood', 'Condition1', 'Condition2', 'BldgType',\n",
       "       'HouseStyle', 'OverallQual', 'OverallCond', 'YearBuilt', 'YearRemodAdd',\n",
       "       'RoofStyle', 'RoofMatl', 'Exterior1st', 'Exterior2nd', 'MasVnrType',\n",
       "       'MasVnrArea', 'ExterQual', 'ExterCond', 'Foundation', 'BsmtQual',\n",
       "       'BsmtCond', 'BsmtExposure', 'BsmtFinType1', 'BsmtFinSF1',\n",
       "       'BsmtFinType2', 'BsmtFinSF2', 'BsmtUnfSF', 'TotalBsmtSF', 'Heating',\n",
       "       'HeatingQC', 'CentralAir', 'Electrical', '1stFlrSF', '2ndFlrSF',\n",
       "       'LowQualFinSF', 'GrLivArea', 'BsmtFullBath', 'BsmtHalfBath', 'FullBath',\n",
       "       'HalfBath', 'BedroomAbvGr', 'KitchenAbvGr', 'KitchenQual',\n",
       "       'TotRmsAbvGrd', 'Functional', 'Fireplaces', 'FireplaceQu', 'GarageType',\n",
       "       'GarageYrBlt', 'GarageFinish', 'GarageCars', 'GarageArea', 'GarageQual',\n",
       "       'GarageCond', 'PavedDrive', 'WoodDeckSF', 'OpenPorchSF',\n",
       "       'EnclosedPorch', '3SsnPorch', 'ScreenPorch', 'PoolArea', 'PoolQC',\n",
       "       'Fence', 'MiscFeature', 'MiscVal', 'MoSold', 'YrSold', 'SaleType',\n",
       "       'SaleCondition', 'SalePrice'],\n",
       "      dtype='object')"
      ]
     },
     "execution_count": 2,
     "metadata": {},
     "output_type": "execute_result"
    }
   ],
   "source": [
    "# print the list of columns in the dataset to find the name of the prediction target\n",
    "columns = home_data.columns\n",
    "columns"
   ]
  },
  {
   "cell_type": "code",
   "execution_count": 3,
   "id": "9021f425",
   "metadata": {
    "execution": {
     "iopub.execute_input": "2023-06-04T10:12:25.405777Z",
     "iopub.status.busy": "2023-06-04T10:12:25.405408Z",
     "iopub.status.idle": "2023-06-04T10:12:25.423333Z",
     "shell.execute_reply": "2023-06-04T10:12:25.422201Z"
    },
    "papermill": {
     "duration": 0.028664,
     "end_time": "2023-06-04T10:12:25.425447",
     "exception": false,
     "start_time": "2023-06-04T10:12:25.396783",
     "status": "completed"
    },
    "tags": []
   },
   "outputs": [
    {
     "data": {
      "application/javascript": [
       "parent.postMessage({\"jupyterEvent\": \"custom.exercise_interaction\", \"data\": {\"outcomeType\": 1, \"valueTowardsCompletion\": 0.25, \"interactionType\": 1, \"questionType\": 2, \"questionId\": \"1_SetTarget\", \"learnToolsVersion\": \"0.3.4\", \"failureMessage\": \"\", \"exceptionClass\": \"\", \"trace\": \"\"}}, \"*\")"
      ],
      "text/plain": [
       "<IPython.core.display.Javascript object>"
      ]
     },
     "metadata": {},
     "output_type": "display_data"
    },
    {
     "data": {
      "text/markdown": [
       "<span style=\"color:#33cc33\">Correct</span>"
      ],
      "text/plain": [
       "Correct"
      ]
     },
     "metadata": {},
     "output_type": "display_data"
    }
   ],
   "source": [
    "y = home_data.SalePrice\n",
    "\n",
    "# Check your answer\n",
    "step_1.check()"
   ]
  },
  {
   "cell_type": "code",
   "execution_count": null,
   "id": "f5f6c36b",
   "metadata": {
    "papermill": {
     "duration": 0.00726,
     "end_time": "2023-06-04T10:12:25.440187",
     "exception": false,
     "start_time": "2023-06-04T10:12:25.432927",
     "status": "completed"
    },
    "tags": []
   },
   "outputs": [],
   "source": []
  },
  {
   "cell_type": "code",
   "execution_count": 4,
   "id": "a2fad5fd",
   "metadata": {
    "collapsed": true,
    "execution": {
     "iopub.execute_input": "2023-06-04T10:12:25.457273Z",
     "iopub.status.busy": "2023-06-04T10:12:25.456598Z",
     "iopub.status.idle": "2023-06-04T10:12:25.461716Z",
     "shell.execute_reply": "2023-06-04T10:12:25.460479Z"
    },
    "jupyter": {
     "outputs_hidden": true
    },
    "papermill": {
     "duration": 0.016686,
     "end_time": "2023-06-04T10:12:25.464296",
     "exception": false,
     "start_time": "2023-06-04T10:12:25.447610",
     "status": "completed"
    },
    "tags": []
   },
   "outputs": [],
   "source": [
    "# The lines below will show you a hint or the solution.\n",
    "# step_1.hint() \n",
    "# step_1.solution()"
   ]
  },
  {
   "cell_type": "markdown",
   "id": "cac8ca71",
   "metadata": {
    "papermill": {
     "duration": 0.007787,
     "end_time": "2023-06-04T10:12:25.479898",
     "exception": false,
     "start_time": "2023-06-04T10:12:25.472111",
     "status": "completed"
    },
    "tags": []
   },
   "source": [
    "## Step 2: Create X\n",
    "Now you will create a DataFrame called `X` holding the predictive features.\n",
    "\n",
    "Since you want only some columns from the original data, you'll first create a list with the names of the columns you want in `X`.\n",
    "\n",
    "You'll use just the following columns in the list (you can copy and paste the whole list to save some typing, though you'll still need to add quotes):\n",
    "  * LotArea\n",
    "  * YearBuilt\n",
    "  * 1stFlrSF\n",
    "  * 2ndFlrSF\n",
    "  * FullBath\n",
    "  * BedroomAbvGr\n",
    "  * TotRmsAbvGrd\n",
    "\n",
    "After you've created that list of features, use it to create the DataFrame that you'll use to fit the model."
   ]
  },
  {
   "cell_type": "code",
   "execution_count": 5,
   "id": "0e6fe4da",
   "metadata": {
    "execution": {
     "iopub.execute_input": "2023-06-04T10:12:25.497188Z",
     "iopub.status.busy": "2023-06-04T10:12:25.496763Z",
     "iopub.status.idle": "2023-06-04T10:12:25.514803Z",
     "shell.execute_reply": "2023-06-04T10:12:25.513435Z"
    },
    "papermill": {
     "duration": 0.02957,
     "end_time": "2023-06-04T10:12:25.517227",
     "exception": false,
     "start_time": "2023-06-04T10:12:25.487657",
     "status": "completed"
    },
    "tags": []
   },
   "outputs": [
    {
     "data": {
      "application/javascript": [
       "parent.postMessage({\"jupyterEvent\": \"custom.exercise_interaction\", \"data\": {\"outcomeType\": 1, \"valueTowardsCompletion\": 0.25, \"interactionType\": 1, \"questionType\": 2, \"questionId\": \"2_SelectPredictionData\", \"learnToolsVersion\": \"0.3.4\", \"failureMessage\": \"\", \"exceptionClass\": \"\", \"trace\": \"\"}}, \"*\")"
      ],
      "text/plain": [
       "<IPython.core.display.Javascript object>"
      ]
     },
     "metadata": {},
     "output_type": "display_data"
    },
    {
     "data": {
      "text/markdown": [
       "<span style=\"color:#33cc33\">Correct</span>"
      ],
      "text/plain": [
       "Correct"
      ]
     },
     "metadata": {},
     "output_type": "display_data"
    }
   ],
   "source": [
    "# Create the list of features below\n",
    "feature_names = ['LotArea', 'YearBuilt','1stFlrSF', '2ndFlrSF','FullBath','BedroomAbvGr','TotRmsAbvGrd']\n",
    "\n",
    "# Select data corresponding to features in feature_names\n",
    "X = home_data[feature_names]\n",
    "\n",
    "# Check your answer\n",
    "step_2.check()"
   ]
  },
  {
   "cell_type": "code",
   "execution_count": 6,
   "id": "bcaf5177",
   "metadata": {
    "execution": {
     "iopub.execute_input": "2023-06-04T10:12:25.534729Z",
     "iopub.status.busy": "2023-06-04T10:12:25.534307Z",
     "iopub.status.idle": "2023-06-04T10:12:25.539484Z",
     "shell.execute_reply": "2023-06-04T10:12:25.538003Z"
    },
    "papermill": {
     "duration": 0.016789,
     "end_time": "2023-06-04T10:12:25.541875",
     "exception": false,
     "start_time": "2023-06-04T10:12:25.525086",
     "status": "completed"
    },
    "tags": []
   },
   "outputs": [],
   "source": [
    "#step_2.hint()\n",
    "# step_2.solution()"
   ]
  },
  {
   "cell_type": "markdown",
   "id": "2abeec95",
   "metadata": {
    "papermill": {
     "duration": 0.007724,
     "end_time": "2023-06-04T10:12:25.557637",
     "exception": false,
     "start_time": "2023-06-04T10:12:25.549913",
     "status": "completed"
    },
    "tags": []
   },
   "source": [
    "## Review Data\n",
    "Before building a model, take a quick look at **X** to verify it looks sensible"
   ]
  },
  {
   "cell_type": "code",
   "execution_count": 7,
   "id": "3fd33a50",
   "metadata": {
    "execution": {
     "iopub.execute_input": "2023-06-04T10:12:25.574977Z",
     "iopub.status.busy": "2023-06-04T10:12:25.574575Z",
     "iopub.status.idle": "2023-06-04T10:12:25.614406Z",
     "shell.execute_reply": "2023-06-04T10:12:25.613442Z"
    },
    "papermill": {
     "duration": 0.051707,
     "end_time": "2023-06-04T10:12:25.617176",
     "exception": false,
     "start_time": "2023-06-04T10:12:25.565469",
     "status": "completed"
    },
    "tags": []
   },
   "outputs": [
    {
     "name": "stdout",
     "output_type": "stream",
     "text": [
      "             LotArea    YearBuilt     1stFlrSF     2ndFlrSF     FullBath  \\\n",
      "count    1460.000000  1460.000000  1460.000000  1460.000000  1460.000000   \n",
      "mean    10516.828082  1971.267808  1162.626712   346.992466     1.565068   \n",
      "std      9981.264932    30.202904   386.587738   436.528436     0.550916   \n",
      "min      1300.000000  1872.000000   334.000000     0.000000     0.000000   \n",
      "25%      7553.500000  1954.000000   882.000000     0.000000     1.000000   \n",
      "50%      9478.500000  1973.000000  1087.000000     0.000000     2.000000   \n",
      "75%     11601.500000  2000.000000  1391.250000   728.000000     2.000000   \n",
      "max    215245.000000  2010.000000  4692.000000  2065.000000     3.000000   \n",
      "\n",
      "       BedroomAbvGr  TotRmsAbvGrd  \n",
      "count   1460.000000   1460.000000  \n",
      "mean       2.866438      6.517808  \n",
      "std        0.815778      1.625393  \n",
      "min        0.000000      2.000000  \n",
      "25%        2.000000      5.000000  \n",
      "50%        3.000000      6.000000  \n",
      "75%        3.000000      7.000000  \n",
      "max        8.000000     14.000000  \n",
      "   LotArea  YearBuilt  1stFlrSF  2ndFlrSF  FullBath  BedroomAbvGr  \\\n",
      "0     8450       2003       856       854         2             3   \n",
      "1     9600       1976      1262         0         2             3   \n",
      "2    11250       2001       920       866         2             3   \n",
      "3     9550       1915       961       756         1             3   \n",
      "4    14260       2000      1145      1053         2             4   \n",
      "\n",
      "   TotRmsAbvGrd  \n",
      "0             8  \n",
      "1             6  \n",
      "2             6  \n",
      "3             7  \n",
      "4             9  \n"
     ]
    }
   ],
   "source": [
    "# Review data\n",
    "# print description or statistics from X\n",
    "print(X.describe())\n",
    "\n",
    "# print the top few lines\n",
    "print(X.head())\n"
   ]
  },
  {
   "cell_type": "markdown",
   "id": "0c25320a",
   "metadata": {
    "papermill": {
     "duration": 0.00785,
     "end_time": "2023-06-04T10:12:25.633224",
     "exception": false,
     "start_time": "2023-06-04T10:12:25.625374",
     "status": "completed"
    },
    "tags": []
   },
   "source": [
    "## Step 3: Specify and Fit Model\n",
    "Create a `DecisionTreeRegressor` and save it iowa_model. Ensure you've done the relevant import from sklearn to run this command.\n",
    "\n",
    "Then fit the model you just created using the data in `X` and `y` that you saved above."
   ]
  },
  {
   "cell_type": "code",
   "execution_count": 8,
   "id": "26d52ada",
   "metadata": {
    "execution": {
     "iopub.execute_input": "2023-06-04T10:12:25.651467Z",
     "iopub.status.busy": "2023-06-04T10:12:25.650985Z",
     "iopub.status.idle": "2023-06-04T10:12:25.673206Z",
     "shell.execute_reply": "2023-06-04T10:12:25.671897Z"
    },
    "papermill": {
     "duration": 0.034464,
     "end_time": "2023-06-04T10:12:25.675824",
     "exception": false,
     "start_time": "2023-06-04T10:12:25.641360",
     "status": "completed"
    },
    "tags": []
   },
   "outputs": [
    {
     "data": {
      "application/javascript": [
       "parent.postMessage({\"jupyterEvent\": \"custom.exercise_interaction\", \"data\": {\"outcomeType\": 1, \"valueTowardsCompletion\": 0.25, \"interactionType\": 1, \"questionType\": 2, \"questionId\": \"3_CreateModel\", \"learnToolsVersion\": \"0.3.4\", \"failureMessage\": \"\", \"exceptionClass\": \"\", \"trace\": \"\"}}, \"*\")"
      ],
      "text/plain": [
       "<IPython.core.display.Javascript object>"
      ]
     },
     "metadata": {},
     "output_type": "display_data"
    },
    {
     "data": {
      "text/markdown": [
       "<span style=\"color:#33cc33\">Correct</span>"
      ],
      "text/plain": [
       "Correct"
      ]
     },
     "metadata": {},
     "output_type": "display_data"
    }
   ],
   "source": [
    " from sklearn.tree import DecisionTreeRegressor\n",
    "#specify the model. \n",
    "#For model reproducibility, set a numeric value for random_state when specifying the model\n",
    "iowa_model = DecisionTreeRegressor(random_state = 1)\n",
    "\n",
    "# Fit the model\n",
    "\n",
    "iowa_model.fit(X, y)\n",
    "\n",
    "# Check your answer\n",
    "step_3.check()"
   ]
  },
  {
   "cell_type": "code",
   "execution_count": 9,
   "id": "b6975be0",
   "metadata": {
    "collapsed": true,
    "execution": {
     "iopub.execute_input": "2023-06-04T10:12:25.694824Z",
     "iopub.status.busy": "2023-06-04T10:12:25.694434Z",
     "iopub.status.idle": "2023-06-04T10:12:25.698743Z",
     "shell.execute_reply": "2023-06-04T10:12:25.697614Z"
    },
    "jupyter": {
     "outputs_hidden": true
    },
    "papermill": {
     "duration": 0.016599,
     "end_time": "2023-06-04T10:12:25.701008",
     "exception": false,
     "start_time": "2023-06-04T10:12:25.684409",
     "status": "completed"
    },
    "tags": []
   },
   "outputs": [],
   "source": [
    "# step_3.hint()\n",
    "# step_3.solution()"
   ]
  },
  {
   "cell_type": "markdown",
   "id": "649ceff8",
   "metadata": {
    "papermill": {
     "duration": 0.008076,
     "end_time": "2023-06-04T10:12:25.717688",
     "exception": false,
     "start_time": "2023-06-04T10:12:25.709612",
     "status": "completed"
    },
    "tags": []
   },
   "source": [
    "## Step 4: Make Predictions\n",
    "Make predictions with the model's `predict` command using `X` as the data. Save the results to a variable called `predictions`."
   ]
  },
  {
   "cell_type": "code",
   "execution_count": 10,
   "id": "b537a6ac",
   "metadata": {
    "execution": {
     "iopub.execute_input": "2023-06-04T10:12:25.736519Z",
     "iopub.status.busy": "2023-06-04T10:12:25.736018Z",
     "iopub.status.idle": "2023-06-04T10:12:25.752161Z",
     "shell.execute_reply": "2023-06-04T10:12:25.750820Z"
    },
    "papermill": {
     "duration": 0.028648,
     "end_time": "2023-06-04T10:12:25.754672",
     "exception": false,
     "start_time": "2023-06-04T10:12:25.726024",
     "status": "completed"
    },
    "tags": []
   },
   "outputs": [
    {
     "name": "stdout",
     "output_type": "stream",
     "text": [
      "[208500. 181500. 223500. ... 266500. 142125. 147500.]\n"
     ]
    },
    {
     "data": {
      "application/javascript": [
       "parent.postMessage({\"jupyterEvent\": \"custom.exercise_interaction\", \"data\": {\"outcomeType\": 1, \"valueTowardsCompletion\": 0.25, \"interactionType\": 1, \"questionType\": 2, \"questionId\": \"4_MakePredictions\", \"learnToolsVersion\": \"0.3.4\", \"failureMessage\": \"\", \"exceptionClass\": \"\", \"trace\": \"\"}}, \"*\")"
      ],
      "text/plain": [
       "<IPython.core.display.Javascript object>"
      ]
     },
     "metadata": {},
     "output_type": "display_data"
    },
    {
     "data": {
      "text/markdown": [
       "<span style=\"color:#33cc33\">Correct</span>"
      ],
      "text/plain": [
       "Correct"
      ]
     },
     "metadata": {},
     "output_type": "display_data"
    }
   ],
   "source": [
    "predictions = iowa_model.predict(X)\n",
    "print(predictions)\n",
    "\n",
    "# Check your answer\n",
    "step_4.check()"
   ]
  },
  {
   "cell_type": "code",
   "execution_count": 11,
   "id": "1f4a4847",
   "metadata": {
    "execution": {
     "iopub.execute_input": "2023-06-04T10:12:25.775352Z",
     "iopub.status.busy": "2023-06-04T10:12:25.774884Z",
     "iopub.status.idle": "2023-06-04T10:12:25.779724Z",
     "shell.execute_reply": "2023-06-04T10:12:25.778363Z"
    },
    "papermill": {
     "duration": 0.018201,
     "end_time": "2023-06-04T10:12:25.782161",
     "exception": false,
     "start_time": "2023-06-04T10:12:25.763960",
     "status": "completed"
    },
    "tags": []
   },
   "outputs": [],
   "source": [
    "# step_4.hint()\n",
    "# step_4.solution()"
   ]
  },
  {
   "cell_type": "markdown",
   "id": "9be5258d",
   "metadata": {
    "papermill": {
     "duration": 0.009105,
     "end_time": "2023-06-04T10:12:25.800278",
     "exception": false,
     "start_time": "2023-06-04T10:12:25.791173",
     "status": "completed"
    },
    "tags": []
   },
   "source": [
    "## Think About Your Results\n",
    "\n",
    "Use the `head` method to compare the top few predictions to the actual home values (in `y`) for those same homes. Anything surprising?\n"
   ]
  },
  {
   "cell_type": "code",
   "execution_count": 12,
   "id": "cfe90a1d",
   "metadata": {
    "execution": {
     "iopub.execute_input": "2023-06-04T10:12:25.820433Z",
     "iopub.status.busy": "2023-06-04T10:12:25.819987Z",
     "iopub.status.idle": "2023-06-04T10:12:25.827638Z",
     "shell.execute_reply": "2023-06-04T10:12:25.826274Z"
    },
    "papermill": {
     "duration": 0.021421,
     "end_time": "2023-06-04T10:12:25.830877",
     "exception": false,
     "start_time": "2023-06-04T10:12:25.809456",
     "status": "completed"
    },
    "tags": []
   },
   "outputs": [
    {
     "name": "stdout",
     "output_type": "stream",
     "text": [
      "Prediction for house number 1198: 178000.0\n",
      "Actual for house number 1198 :178000\n",
      "The difference is : 0.0\n"
     ]
    }
   ],
   "source": [
    "import random\n",
    "random_row = random.randint(0, len(y))\n",
    "print(f\"Prediction for house number { random_row }: { predictions[random_row] }\")\n",
    "print(f\"Actual for house number { random_row } :{ y[random_row] }\", )\n",
    "print(f\"The difference is : { y[random_row]  -  predictions[random_row] }\")\n",
    "\n"
   ]
  },
  {
   "cell_type": "markdown",
   "id": "d3fc352d",
   "metadata": {
    "papermill": {
     "duration": 0.009177,
     "end_time": "2023-06-04T10:12:25.849433",
     "exception": false,
     "start_time": "2023-06-04T10:12:25.840256",
     "status": "completed"
    },
    "tags": []
   },
   "source": [
    "It's natural to ask how accurate the model's predictions will be and how you can improve that. That will be you're next step.\n",
    "\n",
    "# Keep Going\n",
    "\n",
    "You are ready for **[Model Validation](https://www.kaggle.com/dansbecker/model-validation).**\n"
   ]
  },
  {
   "cell_type": "markdown",
   "id": "691c5c01",
   "metadata": {
    "papermill": {
     "duration": 0.009067,
     "end_time": "2023-06-04T10:12:25.867783",
     "exception": false,
     "start_time": "2023-06-04T10:12:25.858716",
     "status": "completed"
    },
    "tags": []
   },
   "source": [
    "---\n",
    "\n",
    "\n",
    "\n",
    "\n",
    "*Have questions or comments? Visit the [course discussion forum](https://www.kaggle.com/learn/intro-to-machine-learning/discussion) to chat with other learners.*"
   ]
  }
 ],
 "metadata": {
  "kernelspec": {
   "display_name": "Python 3",
   "language": "python",
   "name": "python3"
  },
  "language_info": {
   "codemirror_mode": {
    "name": "ipython",
    "version": 3
   },
   "file_extension": ".py",
   "mimetype": "text/x-python",
   "name": "python",
   "nbconvert_exporter": "python",
   "pygments_lexer": "ipython3",
   "version": "3.10.10"
  },
  "papermill": {
   "default_parameters": {},
   "duration": 16.902184,
   "end_time": "2023-06-04T10:12:26.901178",
   "environment_variables": {},
   "exception": null,
   "input_path": "__notebook__.ipynb",
   "output_path": "__notebook__.ipynb",
   "parameters": {},
   "start_time": "2023-06-04T10:12:09.998994",
   "version": "2.4.0"
  }
 },
 "nbformat": 4,
 "nbformat_minor": 5
}
